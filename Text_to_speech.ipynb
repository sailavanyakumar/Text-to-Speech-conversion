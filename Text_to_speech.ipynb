{
 "cells": [
  {
   "cell_type": "code",
   "execution_count": 2,
   "metadata": {},
   "outputs": [
    {
     "name": "stdout",
     "output_type": "stream",
     "text": [
      "Enter input for text to speech conversionhello dear user. How are you?\n"
     ]
    },
    {
     "data": {
      "text/plain": [
       "0"
      ]
     },
     "execution_count": 2,
     "metadata": {},
     "output_type": "execute_result"
    }
   ],
   "source": [
    "from gtts import gTTS\n",
    "import os\n",
    "text = \"Hello user! You are currently explorig the outcome of the library developed by Google India team..To customize our voice to your text enter the text here\"\n",
    "language = 'en'\n",
    "speech = gTTS(text=text, lang=language,slow=False)\n",
    "speech.save(\"test.mp3\")\n",
    "os.system(\"start test.mp3\")\n",
    "\n",
    "t_input=input(\"Enter input for text to speech conversion\")\n",
    "speech1 = gTTS(text=t_input, lang=language,slow=False)\n",
    "speech1.save(\"given.mp3\")\n",
    "os.system(\"start given.mp3\")\n"
   ]
  },
  {
   "cell_type": "code",
   "execution_count": null,
   "metadata": {},
   "outputs": [],
   "source": []
  }
 ],
 "metadata": {
  "kernelspec": {
   "display_name": "Python 3",
   "language": "python",
   "name": "python3"
  },
  "language_info": {
   "codemirror_mode": {
    "name": "ipython",
    "version": 3
   },
   "file_extension": ".py",
   "mimetype": "text/x-python",
   "name": "python",
   "nbconvert_exporter": "python",
   "pygments_lexer": "ipython3",
   "version": "3.7.3"
  }
 },
 "nbformat": 4,
 "nbformat_minor": 2
}
